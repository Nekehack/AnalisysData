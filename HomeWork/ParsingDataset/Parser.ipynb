{
 "cells": [
  {
   "cell_type": "code",
   "execution_count": 9,
   "id": "5fbbc3b9-4c79-4766-ae7a-0c60d928ed6b",
   "metadata": {},
   "outputs": [
    {
     "name": "stdout",
     "output_type": "stream",
     "text": [
      "Collecting selenium_stealth\n",
      "  Downloading selenium_stealth-1.0.6-py3-none-any.whl.metadata (6.4 kB)\n",
      "Requirement already satisfied: selenium in /opt/anaconda3/lib/python3.11/site-packages (from selenium_stealth) (4.28.1)\n",
      "Requirement already satisfied: urllib3<3,>=1.26 in /opt/anaconda3/lib/python3.11/site-packages (from urllib3[socks]<3,>=1.26->selenium->selenium_stealth) (2.0.7)\n",
      "Requirement already satisfied: trio~=0.17 in /opt/anaconda3/lib/python3.11/site-packages (from selenium->selenium_stealth) (0.28.0)\n",
      "Requirement already satisfied: trio-websocket~=0.9 in /opt/anaconda3/lib/python3.11/site-packages (from selenium->selenium_stealth) (0.11.1)\n",
      "Requirement already satisfied: certifi>=2021.10.8 in /opt/anaconda3/lib/python3.11/site-packages (from selenium->selenium_stealth) (2024.12.14)\n",
      "Requirement already satisfied: typing_extensions~=4.9 in /opt/anaconda3/lib/python3.11/site-packages (from selenium->selenium_stealth) (4.12.2)\n",
      "Requirement already satisfied: websocket-client~=1.8 in /opt/anaconda3/lib/python3.11/site-packages (from selenium->selenium_stealth) (1.8.0)\n",
      "Requirement already satisfied: attrs>=23.2.0 in /opt/anaconda3/lib/python3.11/site-packages (from trio~=0.17->selenium->selenium_stealth) (24.3.0)\n",
      "Requirement already satisfied: sortedcontainers in /opt/anaconda3/lib/python3.11/site-packages (from trio~=0.17->selenium->selenium_stealth) (2.4.0)\n",
      "Requirement already satisfied: idna in /opt/anaconda3/lib/python3.11/site-packages (from trio~=0.17->selenium->selenium_stealth) (3.4)\n",
      "Requirement already satisfied: outcome in /opt/anaconda3/lib/python3.11/site-packages (from trio~=0.17->selenium->selenium_stealth) (1.3.0.post0)\n",
      "Requirement already satisfied: sniffio>=1.3.0 in /opt/anaconda3/lib/python3.11/site-packages (from trio~=0.17->selenium->selenium_stealth) (1.3.0)\n",
      "Requirement already satisfied: wsproto>=0.14 in /opt/anaconda3/lib/python3.11/site-packages (from trio-websocket~=0.9->selenium->selenium_stealth) (1.2.0)\n",
      "Requirement already satisfied: pysocks!=1.5.7,<2.0,>=1.5.6 in /opt/anaconda3/lib/python3.11/site-packages (from urllib3[socks]<3,>=1.26->selenium->selenium_stealth) (1.7.1)\n",
      "Requirement already satisfied: h11<1,>=0.9.0 in /opt/anaconda3/lib/python3.11/site-packages (from wsproto>=0.14->trio-websocket~=0.9->selenium->selenium_stealth) (0.14.0)\n",
      "Downloading selenium_stealth-1.0.6-py3-none-any.whl (32 kB)\n",
      "Installing collected packages: selenium_stealth\n",
      "Successfully installed selenium_stealth-1.0.6\n"
     ]
    }
   ],
   "source": [
    "!pip install selenium_stealth"
   ]
  },
  {
   "cell_type": "code",
   "execution_count": 11,
   "id": "cbd930d5-5623-413d-8d67-e1d95742f0fa",
   "metadata": {},
   "outputs": [],
   "source": [
    "import time\n",
    "import json\n",
    "from selenium import webdriver\n",
    "from selenium_stealth import stealth\n",
    "from selenium.webdriver.common.by import By\n",
    "import csv\n",
    "from selenium.webdriver.common.keys import Keys"
   ]
  },
  {
   "cell_type": "code",
   "execution_count": 13,
   "id": "51d58583-2ea6-4d32-8708-43ed11907eda",
   "metadata": {},
   "outputs": [],
   "source": [
    "def get_market():\n",
    "    driver = webdriver.Chrome()\n",
    "    stealth(driver, platform='Win32')\n",
    "\n",
    "    return driver"
   ]
  },
  {
   "cell_type": "code",
   "execution_count": 15,
   "id": "c89168c2-1b81-4eea-a8ab-95b9fa79ba8e",
   "metadata": {},
   "outputs": [],
   "source": [
    "def get_parsing(driver):\n",
    "    book_titles=[]\n",
    "    for i in range(1,61):\n",
    "        time.sleep(1)\n",
    "        find_input = driver.find_element(By.CSS_SELECTOR, f'div.product-card[data-position=\"{i}\"]')\n",
    "        find_input.click()\n",
    "        time.sleep(5)\n",
    "        # print(driver.page_source)\n",
    "\n",
    "        find_element = driver.find_element(By.CSS_SELECTOR, 'h1._h1_5o36c_18')\n",
    "        name = find_element.text  # Получаем текст названия\n",
    "        book_titles.append(name)\n",
    "        print(book_titles)\n",
    "        time.sleep(3)\n",
    "\n",
    "        # find_element = driver.find_element(By.CSS_SELECTOR, 'span[itemprop=\"ratingValue\"]')\n",
    "        # rating = find_element.text\n",
    "        # book_titles.append(rating)\n",
    "        # time.sleep(3)\n",
    "\n",
    "        find_element = driver.find_element(By.CSS_SELECTOR, '._wrapper_1rsml_1')\n",
    "        annotation = find_element.text\n",
    "        book_titles.append(annotation)\n",
    "        print(book_titles)\n",
    "        time.sleep(3)\n",
    "\n",
    "        find_element = driver.find_element(By.CSS_SELECTOR, '.rubl.text-bold-28-md-32')\n",
    "        price = find_element.text\n",
    "        book_titles.append(price)\n",
    "        print(book_titles)\n",
    "        time.sleep(3)\n",
    "\n",
    "        with open('results.csv', 'a') as file:\n",
    "            line = f\"{book_titles[0]};{book_titles[1]};{book_titles[2]};\\n\"\n",
    "            file.write(line)\n",
    "\n",
    "            file.close()\n",
    "        time.sleep(3)\n",
    "\n",
    "\n",
    "        driver.back()\n",
    "        book_titles.clear()\n",
    "        time.sleep(3)\n",
    "\n",
    "    time.sleep(1)"
   ]
  },
  {
   "cell_type": "code",
   "execution_count": null,
   "id": "692e58b2-4860-4095-9c04-0f3500fb4b4f",
   "metadata": {},
   "outputs": [],
   "source": [
    "driver = get_market()\n",
    "driver.get('https://www.labirint.ru/search/фантастика')\n",
    "time.sleep(2)\n",
    "get_parsing(driver)\n",
    "driver.close()\n",
    "driver.quit()"
   ]
  }
 ],
 "metadata": {
  "kernelspec": {
   "display_name": "Python 3 (ipykernel)",
   "language": "python",
   "name": "python3"
  },
  "language_info": {
   "codemirror_mode": {
    "name": "ipython",
    "version": 3
   },
   "file_extension": ".py",
   "mimetype": "text/x-python",
   "name": "python",
   "nbconvert_exporter": "python",
   "pygments_lexer": "ipython3",
   "version": "3.11.7"
  }
 },
 "nbformat": 4,
 "nbformat_minor": 5
}
