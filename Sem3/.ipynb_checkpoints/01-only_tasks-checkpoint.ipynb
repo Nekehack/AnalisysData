{
 "cells": [
  {
   "metadata": {},
   "cell_type": "markdown",
   "source": [
    "## Задача. Генерация предыстории из конечного итога (Reverse Story Generation)\n",
    "###Постановка\n",
    "Представьте, что у вас есть конечная «точка» сюжета — например, «главный герой победил дракона» или «детектив разгадал преступление». Задача модели — автоматически придумать краткую логически связанную предысторию, объясняющую, каким образом персонажи пришли к этому финалу.\n",
    "### Стартовый датасет\n",
    "    • ROCStories — содержит множество коротких историй (5 предложений), которые описывают развитие сюжета. Можно использовать его для обучения модели на построении причинно-следственных связей. \n",
    "### Метрики\n",
    "    1. ROUGE (ROUGE-1, ROUGE-2, ROUGE-L): Для оценки схожести с референсными историями. \n",
    "    2. BLEU: Также может применяться для сравнения генерируемого текста с эталонным в случае наличия «эталонных» предысторий. \n",
    "    3. BERTScore: Более семантическая метрика, позволяющая учесть лексическую вариативность. \n",
    "    4. Human Evaluation: Оценка связности, логичности и оригинальности текста «человеческими» аннотаторами. "
   ],
   "id": "1ce8b54cb0a97535"
  },
  {
   "metadata": {},
   "cell_type": "markdown",
   "source": "",
   "id": "1d5a0bad4752087e"
  },
  {
   "metadata": {},
   "cell_type": "code",
   "outputs": [],
   "execution_count": null,
   "source": [
    "# ---------------------------------------------------\n",
    "# 2. Подготовка демо-данных: итоговые события и эталонные предыстории\n",
    "# ---------------------------------------------------\n",
    "# Здесь мы вручную задаём пару (или несколько) \"итоговых событий\" и \"эталонных предысторий\".\n",
    "# В реальном проекте вам понадобится более крупный датасет и обучение/тонкая настройка модели.\n",
    "\n",
    "test_data = [\n",
    "    {\n",
    "        \"final_event\": \"The hero defeated the dragon.\",\n",
    "        \"reference_backstory\": (\n",
    "            \"The hero trained for many years, forging a magical sword \"\n",
    "            \"and facing smaller monsters to build courage. \"\n",
    "            \"With unwavering resolve, he challenged the dragon and emerged victorious.\"\n",
    "        )\n",
    "    },\n",
    "    {\n",
    "        \"final_event\": \"The detective solved the mystery of the missing jewels.\",\n",
    "        \"reference_backstory\": (\n",
    "            \"After a series of interviews and careful examination of the clues, \"\n",
    "            \"the detective discovered hidden evidence that led to the culprit. \"\n",
    "            \"This methodical process ensured the jewels were finally recovered.\"\n",
    "        )\n",
    "    }\n",
    "]"
   ],
   "id": "614b55cf2e01c264"
  }
 ],
 "metadata": {
  "kernelspec": {
   "display_name": "Python 3",
   "language": "python",
   "name": "python3"
  },
  "language_info": {
   "codemirror_mode": {
    "name": "ipython",
    "version": 2
   },
   "file_extension": ".py",
   "mimetype": "text/x-python",
   "name": "python",
   "nbconvert_exporter": "python",
   "pygments_lexer": "ipython2",
   "version": "2.7.6"
  }
 },
 "nbformat": 4,
 "nbformat_minor": 5
}
