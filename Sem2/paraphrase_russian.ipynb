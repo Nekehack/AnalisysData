{
 "cells": [
  {
   "cell_type": "markdown",
   "metadata": {
    "id": "hqUgSjUyYKUX"
   },
   "source": [
    "# Парафраз русских предложений с Hugging Face\n",
    "Этот блокнот использует модель `cointegrated/rut5-base-paraphraser` для перефразирования русских текстов.\n",
    "Также используется датасет `russian-superglue/ru_paraphraser` для проверки качества модели."
   ]
  },
  {
   "cell_type": "code",
   "execution_count": 5,
   "metadata": {
    "ExecuteTime": {
     "end_time": "2025-02-13T02:37:17.471095Z",
     "start_time": "2025-02-13T02:37:16.665308Z"
    },
    "id": "HFf3vb3SYKUZ"
   },
   "outputs": [
    {
     "name": "stdout",
     "output_type": "stream",
     "text": [
      "Requirement already satisfied: transformers in /opt/anaconda3/lib/python3.11/site-packages (4.50.1)\n",
      "Requirement already satisfied: datasets in /opt/anaconda3/lib/python3.11/site-packages (3.3.1)\n",
      "Requirement already satisfied: filelock in /opt/anaconda3/lib/python3.11/site-packages (from transformers) (3.13.1)\n",
      "Requirement already satisfied: huggingface-hub<1.0,>=0.26.0 in /opt/anaconda3/lib/python3.11/site-packages (from transformers) (0.29.0)\n",
      "Requirement already satisfied: numpy>=1.17 in /opt/anaconda3/lib/python3.11/site-packages (from transformers) (1.26.4)\n",
      "Requirement already satisfied: packaging>=20.0 in /opt/anaconda3/lib/python3.11/site-packages (from transformers) (24.2)\n",
      "Requirement already satisfied: pyyaml>=5.1 in /opt/anaconda3/lib/python3.11/site-packages (from transformers) (6.0.1)\n",
      "Requirement already satisfied: regex!=2019.12.17 in /opt/anaconda3/lib/python3.11/site-packages (from transformers) (2023.10.3)\n",
      "Requirement already satisfied: requests in /opt/anaconda3/lib/python3.11/site-packages (from transformers) (2.32.3)\n",
      "Requirement already satisfied: tokenizers<0.22,>=0.21 in /opt/anaconda3/lib/python3.11/site-packages (from transformers) (0.21.0)\n",
      "Requirement already satisfied: safetensors>=0.4.3 in /opt/anaconda3/lib/python3.11/site-packages (from transformers) (0.5.2)\n",
      "Requirement already satisfied: tqdm>=4.27 in /opt/anaconda3/lib/python3.11/site-packages (from transformers) (4.67.1)\n",
      "Requirement already satisfied: pyarrow>=15.0.0 in /opt/anaconda3/lib/python3.11/site-packages (from datasets) (19.0.1)\n",
      "Requirement already satisfied: dill<0.3.9,>=0.3.0 in /opt/anaconda3/lib/python3.11/site-packages (from datasets) (0.3.8)\n",
      "Requirement already satisfied: pandas in /opt/anaconda3/lib/python3.11/site-packages (from datasets) (2.1.4)\n",
      "Requirement already satisfied: xxhash in /opt/anaconda3/lib/python3.11/site-packages (from datasets) (3.5.0)\n",
      "Requirement already satisfied: multiprocess<0.70.17 in /opt/anaconda3/lib/python3.11/site-packages (from datasets) (0.70.16)\n",
      "Requirement already satisfied: fsspec<=2024.12.0,>=2023.1.0 in /opt/anaconda3/lib/python3.11/site-packages (from fsspec[http]<=2024.12.0,>=2023.1.0->datasets) (2024.12.0)\n",
      "Requirement already satisfied: aiohttp in /opt/anaconda3/lib/python3.11/site-packages (from datasets) (3.9.3)\n",
      "Requirement already satisfied: aiosignal>=1.1.2 in /opt/anaconda3/lib/python3.11/site-packages (from aiohttp->datasets) (1.2.0)\n",
      "Requirement already satisfied: attrs>=17.3.0 in /opt/anaconda3/lib/python3.11/site-packages (from aiohttp->datasets) (24.3.0)\n",
      "Requirement already satisfied: frozenlist>=1.1.1 in /opt/anaconda3/lib/python3.11/site-packages (from aiohttp->datasets) (1.4.0)\n",
      "Requirement already satisfied: multidict<7.0,>=4.5 in /opt/anaconda3/lib/python3.11/site-packages (from aiohttp->datasets) (6.0.4)\n",
      "Requirement already satisfied: yarl<2.0,>=1.0 in /opt/anaconda3/lib/python3.11/site-packages (from aiohttp->datasets) (1.9.3)\n",
      "Requirement already satisfied: typing-extensions>=3.7.4.3 in /opt/anaconda3/lib/python3.11/site-packages (from huggingface-hub<1.0,>=0.26.0->transformers) (4.12.2)\n",
      "Requirement already satisfied: charset-normalizer<4,>=2 in /opt/anaconda3/lib/python3.11/site-packages (from requests->transformers) (2.0.4)\n",
      "Requirement already satisfied: idna<4,>=2.5 in /opt/anaconda3/lib/python3.11/site-packages (from requests->transformers) (3.4)\n",
      "Requirement already satisfied: urllib3<3,>=1.21.1 in /opt/anaconda3/lib/python3.11/site-packages (from requests->transformers) (2.0.7)\n",
      "Requirement already satisfied: certifi>=2017.4.17 in /opt/anaconda3/lib/python3.11/site-packages (from requests->transformers) (2024.12.14)\n",
      "Requirement already satisfied: python-dateutil>=2.8.2 in /opt/anaconda3/lib/python3.11/site-packages (from pandas->datasets) (2.8.2)\n",
      "Requirement already satisfied: pytz>=2020.1 in /opt/anaconda3/lib/python3.11/site-packages (from pandas->datasets) (2023.3.post1)\n",
      "Requirement already satisfied: tzdata>=2022.1 in /opt/anaconda3/lib/python3.11/site-packages (from pandas->datasets) (2023.3)\n",
      "Requirement already satisfied: six>=1.5 in /opt/anaconda3/lib/python3.11/site-packages (from python-dateutil>=2.8.2->pandas->datasets) (1.16.0)\n"
     ]
    }
   ],
   "source": [
    "# Установка библиотек\n",
    "# !pip install transformers datasets torch\n",
    "!pip install transformers datasets"
   ]
  },
  {
   "cell_type": "markdown",
   "metadata": {
    "id": "5GaufTOAYKUb"
   },
   "source": [
    "## 1. Загрузка датасета"
   ]
  },
  {
   "cell_type": "code",
   "execution_count": 8,
   "metadata": {
    "ExecuteTime": {
     "end_time": "2025-02-13T03:14:47.141690Z",
     "start_time": "2025-02-13T03:14:33.402512Z"
    },
    "id": "e_zyTtuIYKUb"
   },
   "outputs": [
    {
     "data": {
      "application/vnd.jupyter.widget-view+json": {
       "model_id": "8e85d262ef8f451c8935a7a54c66fbe0",
       "version_major": 2,
       "version_minor": 0
      },
      "text/plain": [
       "README.md:   0%|          | 0.00/3.03k [00:00<?, ?B/s]"
      ]
     },
     "metadata": {},
     "output_type": "display_data"
    },
    {
     "data": {
      "application/vnd.jupyter.widget-view+json": {
       "model_id": "40a807b23744461393c2a708daa0e057",
       "version_major": 2,
       "version_minor": 0
      },
      "text/plain": [
       "train.jsonl:   0%|          | 0.00/2.17M [00:00<?, ?B/s]"
      ]
     },
     "metadata": {},
     "output_type": "display_data"
    },
    {
     "data": {
      "application/vnd.jupyter.widget-view+json": {
       "model_id": "ee6412f9373e4c328655e9edb771bfc4",
       "version_major": 2,
       "version_minor": 0
      },
      "text/plain": [
       "test.jsonl:   0%|          | 0.00/605k [00:00<?, ?B/s]"
      ]
     },
     "metadata": {},
     "output_type": "display_data"
    },
    {
     "data": {
      "application/vnd.jupyter.widget-view+json": {
       "model_id": "bb0288d126ab4acea0237a58f2ad8ed8",
       "version_major": 2,
       "version_minor": 0
      },
      "text/plain": [
       "Generating train split:   0%|          | 0/7227 [00:00<?, ? examples/s]"
      ]
     },
     "metadata": {},
     "output_type": "display_data"
    },
    {
     "data": {
      "application/vnd.jupyter.widget-view+json": {
       "model_id": "f18b152fe2fe4d5bbd180a1e6b3ab9a1",
       "version_major": 2,
       "version_minor": 0
      },
      "text/plain": [
       "Generating test split:   0%|          | 0/1924 [00:00<?, ? examples/s]"
      ]
     },
     "metadata": {},
     "output_type": "display_data"
    },
    {
     "name": "stdout",
     "output_type": "stream",
     "text": [
      "DatasetDict({\n",
      "    train: Dataset({\n",
      "        features: ['id', 'id_1', 'id_2', 'text_1', 'text_2', 'class'],\n",
      "        num_rows: 7227\n",
      "    })\n",
      "    test: Dataset({\n",
      "        features: ['id', 'id_1', 'id_2', 'text_1', 'text_2', 'class'],\n",
      "        num_rows: 1924\n",
      "    })\n",
      "})\n"
     ]
    }
   ],
   "source": [
    "from datasets import load_dataset\n",
    "\n",
    "# Загружаем датасет\n",
    "dataset = load_dataset(\"merionum/ru_paraphraser\")\n",
    "\n",
    "# Проверяем структуру\n",
    "print(dataset)"
   ]
  },
  {
   "cell_type": "code",
   "execution_count": 10,
   "metadata": {
    "ExecuteTime": {
     "end_time": "2025-02-13T03:17:19.551405Z",
     "start_time": "2025-02-13T03:17:19.548129Z"
    },
    "id": "DDXlvWOoYKUb"
   },
   "outputs": [
    {
     "data": {
      "text/plain": [
       "{'id': '11',\n",
       " 'id_1': '246',\n",
       " 'id_2': '8165',\n",
       " 'text_1': 'Москвичи смогут забронировать в Интернете место на кладбище.',\n",
       " 'text_2': 'В Москве можно будет забронировать место на кладбище через интернет.',\n",
       " 'class': '1'}"
      ]
     },
     "execution_count": 10,
     "metadata": {},
     "output_type": "execute_result"
    }
   ],
   "source": [
    "dataset[\"train\"][10]"
   ]
  },
  {
   "cell_type": "code",
   "execution_count": 12,
   "metadata": {
    "ExecuteTime": {
     "end_time": "2025-02-13T03:17:46.960190Z",
     "start_time": "2025-02-13T03:17:46.956809Z"
    },
    "id": "TF_YpHdXYKUb"
   },
   "outputs": [
    {
     "data": {
      "text/plain": [
       "{'id': '1',\n",
       " 'id_1': '201',\n",
       " 'id_2': '8159',\n",
       " 'text_1': 'Полицейским разрешат стрелять на поражение по гражданам с травматикой.',\n",
       " 'text_2': 'Полиции могут разрешить стрелять по хулиганам с травматикой.',\n",
       " 'class': '0'}"
      ]
     },
     "execution_count": 12,
     "metadata": {},
     "output_type": "execute_result"
    }
   ],
   "source": [
    "dataset[\"train\"][0]"
   ]
  },
  {
   "cell_type": "markdown",
   "metadata": {
    "id": "OSgsc70cYKUc"
   },
   "source": [
    "## 2. Фильтрация данных (только правильные парафразы)"
   ]
  },
  {
   "cell_type": "code",
   "execution_count": 15,
   "metadata": {
    "ExecuteTime": {
     "end_time": "2025-02-13T03:21:31.699059Z",
     "start_time": "2025-02-13T03:21:31.627965Z"
    },
    "id": "xLsWNgAuYKUc"
   },
   "outputs": [
    {
     "data": {
      "application/vnd.jupyter.widget-view+json": {
       "model_id": "0f9e3daa21184697ae03e25748c4002c",
       "version_major": 2,
       "version_minor": 0
      },
      "text/plain": [
       "Filter:   0%|          | 0/7227 [00:00<?, ? examples/s]"
      ]
     },
     "metadata": {},
     "output_type": "display_data"
    },
    {
     "data": {
      "application/vnd.jupyter.widget-view+json": {
       "model_id": "b992cdf222bc4bc892eca8d2eb6987d4",
       "version_major": 2,
       "version_minor": 0
      },
      "text/plain": [
       "Filter:   0%|          | 0/1924 [00:00<?, ? examples/s]"
      ]
     },
     "metadata": {},
     "output_type": "display_data"
    },
    {
     "name": "stdout",
     "output_type": "stream",
     "text": [
      "Количество примеров: 1688\n",
      "(1688, 6)\n"
     ]
    }
   ],
   "source": [
    "# Фильтруем только примеры, где label = 1 (парафраз)\n",
    "train_data = dataset[\"train\"].filter(lambda x: x[\"class\"] == '1')\n",
    "test_data = dataset[\"test\"].filter(lambda x: x[\"class\"] == '1')\n",
    "\n",
    "# Выводим пример\n",
    "print(f\"Количество примеров: {len(train_data)}\")\n",
    "print(train_data.shape)"
   ]
  },
  {
   "cell_type": "markdown",
   "metadata": {
    "id": "IjsYuDnYYKUc"
   },
   "source": [
    "## 3. Использование `pipeline` для парафраза"
   ]
  },
  {
   "cell_type": "code",
   "execution_count": 18,
   "metadata": {
    "ExecuteTime": {
     "end_time": "2025-02-13T03:24:46.662027Z",
     "start_time": "2025-02-13T03:21:39.534830Z"
    },
    "id": "blRj_kSOYKUd"
   },
   "outputs": [
    {
     "name": "stderr",
     "output_type": "stream",
     "text": [
      "/opt/anaconda3/lib/python3.11/site-packages/torch/utils/_pytree.py:185: FutureWarning: optree is installed but the version is too old to support PyTorch Dynamo in C++ pytree. C++ pytree support is disabled. Please consider upgrading optree using `python3 -m pip install --upgrade 'optree>=0.13.0'`.\n",
      "  warnings.warn(\n"
     ]
    },
    {
     "data": {
      "application/vnd.jupyter.widget-view+json": {
       "model_id": "32ec86e6fc7d4ff0b25c43c39de99870",
       "version_major": 2,
       "version_minor": 0
      },
      "text/plain": [
       "config.json:   0%|          | 0.00/724 [00:00<?, ?B/s]"
      ]
     },
     "metadata": {},
     "output_type": "display_data"
    },
    {
     "data": {
      "application/vnd.jupyter.widget-view+json": {
       "model_id": "6b97b700f6ab4998aad32c9a09486183",
       "version_major": 2,
       "version_minor": 0
      },
      "text/plain": [
       "model.safetensors:   0%|          | 0.00/977M [00:00<?, ?B/s]"
      ]
     },
     "metadata": {},
     "output_type": "display_data"
    },
    {
     "data": {
      "application/vnd.jupyter.widget-view+json": {
       "model_id": "32d07713f529467086ce1bcb4fd15400",
       "version_major": 2,
       "version_minor": 0
      },
      "text/plain": [
       "tokenizer_config.json:   0%|          | 0.00/315 [00:00<?, ?B/s]"
      ]
     },
     "metadata": {},
     "output_type": "display_data"
    },
    {
     "data": {
      "application/vnd.jupyter.widget-view+json": {
       "model_id": "7ed99fde59fa4a3cbfdf931f8376941e",
       "version_major": 2,
       "version_minor": 0
      },
      "text/plain": [
       "spiece.model:   0%|          | 0.00/828k [00:00<?, ?B/s]"
      ]
     },
     "metadata": {},
     "output_type": "display_data"
    },
    {
     "data": {
      "application/vnd.jupyter.widget-view+json": {
       "model_id": "17aded6fbd0541e2baa2c447b66bafdf",
       "version_major": 2,
       "version_minor": 0
      },
      "text/plain": [
       "special_tokens_map.json:   0%|          | 0.00/65.0 [00:00<?, ?B/s]"
      ]
     },
     "metadata": {},
     "output_type": "display_data"
    },
    {
     "name": "stderr",
     "output_type": "stream",
     "text": [
      "You are using the default legacy behaviour of the <class 'transformers.models.t5.tokenization_t5.T5Tokenizer'>. This is expected, and simply means that the `legacy` (previous) behavior will be used so nothing changes for you. If you want to use the new behaviour, set `legacy=False`. This should only be set if you understand what it means, and thoroughly read the reason why this was added as explained in https://github.com/huggingface/transformers/pull/24565\n",
      "/opt/anaconda3/lib/python3.11/site-packages/transformers/convert_slow_tokenizer.py:559: UserWarning: The sentencepiece tokenizer that you are converting to a fast tokenizer uses the byte fallback option which is not implemented in the fast tokenizers. In practice this means that the fast version of the tokenizer can produce unknown tokens whereas the sentencepiece version would have converted these unknown tokens into a sequence of byte tokens matching the original piece of text.\n",
      "  warnings.warn(\n",
      "Device set to use mps:0\n"
     ]
    },
    {
     "name": "stdout",
     "output_type": "stream",
     "text": [
      "Исходное: Я собираюсь поехать в Москву завтра.\n",
      "Перефразированное: Я завтра поеду в Москву.\n"
     ]
    }
   ],
   "source": [
    "from transformers import pipeline\n",
    "\n",
    "# Загружаем pipeline для парафраза\n",
    "paraphraser = pipeline(\"text2text-generation\", model=\"cointegrated/rut5-base-paraphraser\")\n",
    "\n",
    "# Пример работы модели\n",
    "text = \"Я собираюсь поехать в Москву завтра.\"\n",
    "result = paraphraser(text, max_length=50, num_return_sequences=1)\n",
    "\n",
    "print(\"Исходное:\", text)\n",
    "print(\"Перефразированное:\", result[0][\"generated_text\"])"
   ]
  },
  {
   "cell_type": "markdown",
   "metadata": {
    "id": "iaDFwe93YKUd"
   },
   "source": [
    "## 4. Проверка модели на тестовом датасете"
   ]
  },
  {
   "cell_type": "code",
   "execution_count": 20,
   "metadata": {
    "id": "C03Z1HCBYKUd"
   },
   "outputs": [
    {
     "name": "stdout",
     "output_type": "stream",
     "text": [
      " Исходное: Вертолет с 11 иностранцами на борту упал в Пакистане\n",
      "Ожидаемое: В Пакистане упал вертолет с 11 иностранцами\n",
      "Сгенерированное: В Пакистане упал вертолёт с иностранцами\n",
      " Исходное: Самолет вернулся в аэропорт Новосибирска из-за стука в салоне\n",
      "Ожидаемое: Самолет вернулся в новосибирский аэропорт из-за таинственного стука\n",
      "Сгенерированное: Самолет вернулся в Новосибирск из-за стука в салоне\n",
      " Исходное: Суд оправдал Васильеву в хищении акций на два миллиарда рублей\n",
      "Ожидаемое: Суд оправдал Васильеву в хищении акций на 2 млрд рублей\n",
      "Сгенерированное: Суд оправдал Васильеву за хищение акций на два миллиарда рублей\n",
      " Исходное: Пушков: у Обамы не хватило духа лично поздравить наш народ с Победой\n",
      "Ожидаемое: Пушков: Обама не нашел в себе духа лично поздравить россиян с Победой\n",
      "Сгенерированное: Пушков: Обамы не хватило духа поздравить народ с Победой\n",
      " Исходное: МЧС РФ: тела погибших российских дипломатов доставят из Непала 11 мая\n",
      "Ожидаемое: Тела погибших в Непале российских дипломатов доставят на родину 11 мая\n",
      "Сгенерированное: Российские дипломаты покинули Крым в ходе карантина\n"
     ]
    }
   ],
   "source": [
    "correct = 0\n",
    "total = 5  # Берем 5 примеров для теста\n",
    "\n",
    "for i in range(total):\n",
    "    original = test_data[i][\"text_1\"]\n",
    "    expected = test_data[i][\"text_2\"]\n",
    "\n",
    "    # Генерируем парафраз\n",
    "    generated = paraphraser(original, max_length=50, num_return_sequences=1)[0][\"generated_text\"]\n",
    "\n",
    "    print(f\" Исходное: {original}\")\n",
    "    print(f\"Ожидаемое: {expected}\")\n",
    "    print(f\"Сгенерированное: {generated}\")"
   ]
  },
  {
   "cell_type": "code",
   "execution_count": 26,
   "metadata": {},
   "outputs": [
    {
     "name": "stdout",
     "output_type": "stream",
     "text": [
      "Исходное: Вертолет с 11 иностранцами на борту упал в Пакистане\n",
      "Ожидаемое: В Пакистане упал вертолет с 11 иностранцами\n",
      "Сгенерированное: В Пакистане упал вертолёт с иностранцами\n",
      "ROUGE-1: {'r': 0.7142857142857143, 'p': 0.8333333333333334, 'f': 0.7692307642603551}\n",
      "ROUGE-2: {'r': 0.3333333333333333, 'p': 0.4, 'f': 0.36363635867768596}\n",
      "ROUGE-L: {'r': 0.7142857142857143, 'p': 0.8333333333333334, 'f': 0.7692307642603551}\n",
      "Исходное: Самолет вернулся в аэропорт Новосибирска из-за стука в салоне\n",
      "Ожидаемое: Самолет вернулся в новосибирский аэропорт из-за таинственного стука\n",
      "Сгенерированное: Самолет вернулся в Новосибирск из-за стука в салоне\n",
      "ROUGE-1: {'r': 0.625, 'p': 0.7142857142857143, 'f': 0.6666666616888889}\n",
      "ROUGE-2: {'r': 0.2857142857142857, 'p': 0.2857142857142857, 'f': 0.2857142807142858}\n",
      "ROUGE-L: {'r': 0.625, 'p': 0.7142857142857143, 'f': 0.6666666616888889}\n",
      "Исходное: Суд оправдал Васильеву в хищении акций на два миллиарда рублей\n",
      "Ожидаемое: Суд оправдал Васильеву в хищении акций на 2 млрд рублей\n",
      "Сгенерированное: Суд оправдал Васильеву за хищение акций на два миллиарда рублей\n",
      "ROUGE-1: {'r': 0.6, 'p': 0.6, 'f': 0.5999999950000001}\n",
      "ROUGE-2: {'r': 0.3333333333333333, 'p': 0.3333333333333333, 'f': 0.3333333283333334}\n",
      "ROUGE-L: {'r': 0.6, 'p': 0.6, 'f': 0.5999999950000001}\n",
      "Исходное: Пушков: у Обамы не хватило духа лично поздравить наш народ с Победой\n",
      "Ожидаемое: Пушков: Обама не нашел в себе духа лично поздравить россиян с Победой\n",
      "Сгенерированное: Пушков: Обамы не хватило духа поздравить народ с Победой\n",
      "ROUGE-1: {'r': 0.5, 'p': 0.6666666666666666, 'f': 0.5714285665306124}\n",
      "ROUGE-2: {'r': 0.09090909090909091, 'p': 0.125, 'f': 0.1052631530193908}\n",
      "ROUGE-L: {'r': 0.5, 'p': 0.6666666666666666, 'f': 0.5714285665306124}\n",
      "Исходное: МЧС РФ: тела погибших российских дипломатов доставят из Непала 11 мая\n",
      "Ожидаемое: Тела погибших в Непале российских дипломатов доставят на родину 11 мая\n",
      "Сгенерированное: Российские дипломаты покинули Крым в ходе карантина\n",
      "ROUGE-1: {'r': 0.09090909090909091, 'p': 0.14285714285714285, 'f': 0.11111110635802489}\n",
      "ROUGE-2: {'r': 0.0, 'p': 0.0, 'f': 0.0}\n",
      "ROUGE-L: {'r': 0.09090909090909091, 'p': 0.14285714285714285, 'f': 0.11111110635802489}\n"
     ]
    }
   ],
   "source": [
    "from nltk.translate.bleu_score import sentence_bleu\n",
    "from rouge import Rouge\n",
    "\n",
    "# Инициализация объекта Rouge\n",
    "rouge = Rouge()\n",
    "\n",
    "for i in range(total):\n",
    "    original = test_data[i][\"text_1\"]\n",
    "    expected = test_data[i][\"text_2\"]\n",
    "\n",
    "    # Генерация парафраза\n",
    "    generated = paraphraser(original, max_length=50, num_return_sequences=1)[0][\"generated_text\"]\n",
    "\n",
    "    print(f\"Исходное: {original}\")\n",
    "    print(f\"Ожидаемое: {expected}\")\n",
    "    print(f\"Сгенерированное: {generated}\")\n",
    "\n",
    "    try:\n",
    "        # Вычисление ROUGE-метрики\n",
    "        scores = rouge.get_scores(generated, expected)[0]\n",
    "        print(f\"ROUGE-1: {scores['rouge-1']}\")\n",
    "        print(f\"ROUGE-2: {scores['rouge-2']}\")\n",
    "        print(f\"ROUGE-L: {scores['rouge-l']}\")\n",
    "    except Exception as e:\n",
    "        print(f\"Ошибка при вычислении ROUGE: {e}\")"
   ]
  },
  {
   "cell_type": "markdown",
   "metadata": {
    "id": "AMWqoyudYKUd"
   },
   "source": [
    "## Вывод\n",
    "- Использовали датасет `ru_paraphraser` с Hugging Face.\n",
    "- Фильтровали правильные примеры (class=\"1\").\n",
    "- Использовали `pipeline` для парафраза.\n",
    "- Проверили качество модели на тестовых примерах.\n",
    "\n",
    "Теперь можно **использовать код для генерации русских парафраз**!\n",
    "\n",
    "\n",
    "# ЗАДАНИЕ\n",
    "Допишите оценку модели по метрике ROUGE"
   ]
  }
 ],
 "metadata": {
  "accelerator": "GPU",
  "colab": {
   "gpuType": "T4",
   "provenance": []
  },
  "kernelspec": {
   "display_name": "Python 3 (ipykernel)",
   "language": "python",
   "name": "python3"
  },
  "language_info": {
   "codemirror_mode": {
    "name": "ipython",
    "version": 3
   },
   "file_extension": ".py",
   "mimetype": "text/x-python",
   "name": "python",
   "nbconvert_exporter": "python",
   "pygments_lexer": "ipython3",
   "version": "3.11.7"
  }
 },
 "nbformat": 4,
 "nbformat_minor": 4
}
